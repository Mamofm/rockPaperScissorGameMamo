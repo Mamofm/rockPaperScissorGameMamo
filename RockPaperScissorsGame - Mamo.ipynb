{
 "cells": [
  {
   "cell_type": "code",
   "execution_count": 1,
   "id": "b00b202d",
   "metadata": {},
   "outputs": [],
   "source": [
    "import random as r\n",
    "choice = ('rock', 'paper', 'scissors')"
   ]
  },
  {
   "cell_type": "code",
   "execution_count": 2,
   "id": "ebddc54e",
   "metadata": {},
   "outputs": [],
   "source": [
    "#computer turn to pick\n",
    "def computerTurn():\n",
    "    computerPick = choice[r.randint(0,2)]\n",
    "    return computerPick"
   ]
  },
  {
   "cell_type": "code",
   "execution_count": 3,
   "id": "dbbecf7b",
   "metadata": {},
   "outputs": [],
   "source": [
    "#play the game\n",
    "def playGame():   \n",
    "    playerPick = input (\"Enter your pick chocies are rock, paper, or scissors: \")\n",
    "    print (\"\\n\")\n",
    "    computerPick = computerTurn()\n",
    "    if computerPick == playerPick:\n",
    "        print (f\"It's a draw ... because you both picked {playerPick} and {computerPick}\\n\")\n",
    "    elif (computerPick == \"rock\" and playerPick == \"scissors\"):\n",
    "        print (\"You lose ... Rock beats scissors\\n\")\n",
    "    elif (computerPick == \"scissors\" and playerPick == \"paper\"):    \n",
    "        print (\"You lose ...Scissors beats paper\\n\")\n",
    "    elif (computerPick == \"paper\" and playerPick == \"rock\"):    \n",
    "        print (\"You lose ...paper beats rock\\n\")\n",
    "    else:\n",
    "        print (f\"you win ... {playerPick} beats {computerPick}\")"
   ]
  },
  {
   "cell_type": "code",
   "execution_count": 7,
   "id": "20397fc5",
   "metadata": {},
   "outputs": [
    {
     "name": "stdout",
     "output_type": "stream",
     "text": [
      "Enter your pick chocies are rock, paper, or scissors: scissors\n",
      "\n",
      "\n",
      "you win ... scissors beats paper\n",
      "Do you wich to continue playing (y/n): y\n",
      "Enter your pick chocies are rock, paper, or scissors: paper\n",
      "\n",
      "\n",
      "You lose ...Scissors beats paper\n",
      "\n",
      "Do you wich to continue playing (y/n): y\n",
      "Enter your pick chocies are rock, paper, or scissors: rock\n",
      "\n",
      "\n",
      "It's a draw ... because you both picked rock and rock\n",
      "\n",
      "Do you wich to continue playing (y/n): n\n",
      "Game Over\n"
     ]
    }
   ],
   "source": [
    "#main program\n",
    "playMore = 'y'\n",
    "\n",
    "while (playMore == 'y'):\n",
    "    playGame()\n",
    "    playMore = input(\"Do you wich to continue playing (y/n): \")  \n",
    "\n",
    "print (\"Game Over\")"
   ]
  },
  {
   "cell_type": "code",
   "execution_count": null,
   "id": "d1302de5",
   "metadata": {},
   "outputs": [],
   "source": []
  },
  {
   "cell_type": "code",
   "execution_count": null,
   "id": "ce7e67be",
   "metadata": {},
   "outputs": [],
   "source": []
  }
 ],
 "metadata": {
  "kernelspec": {
   "display_name": "Python 3",
   "language": "python",
   "name": "python3"
  },
  "language_info": {
   "codemirror_mode": {
    "name": "ipython",
    "version": 3
   },
   "file_extension": ".py",
   "mimetype": "text/x-python",
   "name": "python",
   "nbconvert_exporter": "python",
   "pygments_lexer": "ipython3",
   "version": "3.8.8"
  }
 },
 "nbformat": 4,
 "nbformat_minor": 5
}
